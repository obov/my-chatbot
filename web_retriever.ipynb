{
 "cells": [
  {
   "cell_type": "code",
   "execution_count": 107,
   "metadata": {},
   "outputs": [
    {
     "data": {
      "text/plain": [
       "\"# 'AII-in 코딩 공모전’ 수상작을 소개합니다\\n\\n- 코딩은 더 이상 개발자만의 영역이 아닙니다. 누구나 아이디어만 있다면 창의적인 서비스를 만들어 세상을 바꿀 수 있습니다. 스파르타코딩클럽에서는 이러한 가능성을 믿고, 누구나 코딩을 통해 자신의 아이디어를 실현하고 실제 문제를 해결하는 경험을 쌓을 수 있도록 다양한 프로그램을 마련하고 있습니다.\\n- <All-in> 코딩 공모전은 대학생들이 캠퍼스에서 겪은 불편함과 문제를 자신만의 아이디어로 해결해보는 대회였는데요. 이번 공모전에서 다양한 혁신적인 아이디어와 열정으로 가득한 수많은 프로젝트가 탄생했습니다. 그중 뛰어난 성과를 낸 수상작 6개를 소개합니다.\\n##  🏆\\xa0대상 [Lexi Note] 언어공부 필기 웹 서비스\\n\\n- 서비스 제작자: 다나와(김다애, 박나경)\\n**서비스 제작자: 다나와(김다애, 박나경)**> [!NOTE]\\n> 💡W는 어문학을 전공하는 대학생입니다. 매일 새로운 단어와 문장 구조를 공부하고 있지만, 효율적으로 학습하는 것이 쉽지 않았습니다. 단어의 의미를 찾기 위해 사전을 뒤적이고, 긴 문장을 이해하려고 번역기를 사용하다 보면, 필기 노트는 어느새 뒷전으로 밀려났거든요. 사전, 번역기, 원서, 필기노트를 왔다 갔다 하다 보면 시간이 다 지나가 버리곤 했죠.\\n\\n- \\n- W와 같이 어문 전공생은 문법, 어휘, 문장 구조 등 다양한 자료를 학습해야 합니다. 여러 자료를 번갈아 학습하다보니 ‘사전-번역기-원서-필기노트’ 왕복으로 학습 효율이 나지 않아 고민인 경우도 많으실 거예요. <Lexi Note>는 단어를 드래그하면 네이버 사전으로 바로 연동 돼 단어의 의미를 찾으며 동시에 필기 할 수 있어요. 이외에도 번역 버튼을 누르면 파파고 번역기가 연동돼 긴 문장도 쉽게 이해할 수 있어요. 언어 학습에 필요한 할일 목록과 스케줄 템플릿을 제공하여 효율적으로 공부할 수 있습니다. 필기, 사전, 번역을 한번에 쉽고 편하게 이용할 수 있죠. 더 이상 시간 낭비 없이 효율적으로 어문학을 공부하며 학습 속도도 눈에 띄게 빨라질 수 있어요. 언어 공부의 복잡함을 단순하게 만들어주는 Lexi Note가 요긴한 학습 도우미가 되었기 때문입니다.\\n- \\n- 사용한 기술 스택\\n**사용한 기술 스택**- -FE(프론트엔드): React, Tesseract.js, React-Quill, HTML, CSS, JavaScript\\n- -BE(백엔드): Java, Spring Boot, MariaDB\\n##  🎖️\\xa0우수상 [우리집 히어로즈] 벌레 퇴치 영웅 매칭 서비스\\n\\n- 서비스 제작자: 인트(배정연, 한지수)\\n**서비스 제작자: 인트(배정연, 한지수)**> [!NOTE]\\n> 💡C는 이번 학기 처음으로 자취를 시작했습니다. 원래부터 작은 벌레에 민감했던 C. 자취방에서 자주 나타나는 벌레들 때문에 밤잠을 설치길 반복했습니다. 밤마다 벌레를 잡으려고 애쓰던 C는 커뮤니티를 통해 다른 학생들도 같은 문제를 겪고 있다는 것을 알게 되었습니다. 하지만 커뮤니티에서 벌레 퇴치 히어로를 찾기 위해서는 내 개인 정보를 노출해야 한다는 점이 찝찝했죠.\\n\\n- \\n- 이 문제를 해결할 수 있는 방법이 바로 <우리집 히어로즈> 서비스입니다. 대학생 자취생들이 자취방에서 겪는 벌레 문제를 해결하기 위해 개발된 앱이죠. 벌레 퇴치가 필요한 사용자가 앱에 요청을 올리면 벌레 퇴치 히어로 학우와 매칭됩니다. 사용자 신원은 같은 학교 학생으로, 신원이 보장된 안전한 환경에서 이뤄지고 벌레를 퇴치해주는 히어로는 추가 수입을 얻을 수 있는 기회를 가집니다. 실시간 알림 기능을 통해 매칭이 이뤄지면 즉시 알림을 받을 수 있어 빠르게 문제를 해결할 수 있습니다. 벌레를 퇴치한 후 사용자는 서로를 평가할 수 있어요. 더 나은 서비스를 제공하거나 받을 수 있습니다.\\n- \\n- 사용한 기술 스택\\n**사용한 기술 스택**- -FE(프론트엔드): React Native, Expo, Axios\\n- -BE(백엔드): Spring Boot, Spring Security, MySQL, SSE, FCM, JWT, Postman\\n##  🎖️\\xa0우수상 [에코 클래스룸] 수업 실시간 소통 서비스\\n\\n- 서비스 제작자: This is 스파게티!!!(박지성, 김서원, 박범수)\\n**서비스 제작자: This is 스파게티!!!(박지성, 김서원, 박범수)**> [!NOTE]\\n> 💡K교수는 항상 수업이 끝난 후 난이도가 적절했는지 궁금했습니다. “질문 있나요?”라는 말이 수업의 마무리였지만, 대부분의 학생은 답이 없었죠. 그저 고개를 끄덕이는 몇몇 학생들만 보일 뿐, 정말 이해한 것인지, 질문할 용기가 없는 것인지 알 수 없었습니다. 이때문에 학생들이 수업 내용을 제대로 이해하고 있는지 확인하기 어려웠습니다. 어느 날 강의가 끝나고 몇몇 학생들이 몰려와 어렵다고, 다시 설명해 달라고 요청했습니다. 그제야 K교수는 알게 되었어요. 학생들이 이해하지 못하고 있었지만, 질문을 하지 않았던 것이었습니다.\\n\\n- \\n- 다른 학생들의 시선이 부담스러워서, 나만 모르는 거라고 생각해서 질문하지 않는 학생들을 위해 만들어진 서비스가 바로 <에코 클래스룸>입니다. 교수와 학생 간의 소통을 혁신적으로 바꾸기 위해 만들어졌어요. 학생들이 굳이 손을 들고 질문하지 않아도, 에코 클래스룸을 통해 자신의 의견을 표현할 수 있습니다. 익명으로 수업 중 자신의 의견이나 질문을 쉽게 제출할 수 있어 교수님은 실시간으로 학생들의 이해도를 파악할 수 있습니다. 수업 중 또는 후에 교수자가 수업에 대한 피드백을 받을 수 있는 평가 기능과 학생의 이해도를 테스트 할 수 있는 퀴즈 생성 기능이 있어 필요한 경우 수업 속도를 조절하고 추가 설명을 할 수 있어요.\\n- \\n- 사용한 기술 스택\\n**사용한 기술 스택**- -FE(프론트엔드): Flutter, Socket.IO, Expo CLI, Axios, TanStack Query\\n- -BE(백엔드): Spring Boot, Spring Security, JWT, MySQL, Spring WebSocket, AWS\\n##  🏅\\xa0입선 [Crewing] 연합동아리 정보 플랫폼\\n\\n- 서비스 제작자: 동학대학운동(김민아, 임경진, 신은혜, 고수)\\n**서비스 제작자: 동학대학운동(김민아, 임경진, 신은혜, 고수)**> [!NOTE]\\n> 💡신입생인 S는 대학 생활을 알차게 보내고 싶어서 연합 동아리에 가입하려고 했지만 어떤 동아리가 자신에게 맞을지 고민이 많았습니다. 인터넷에 검색해보니 연합 동아리 후기는 대부분 여기저기 흩어져 있고, 신뢰할 만한 정보를 찾기 어려웠습니다.\\n\\n- \\n- <Crewing>은 대학생들이 다양한 연합 동아리에 쉽게 가입하고, 적절한 동아리를 찾을 수 있도록 지원해주는 아카이빙 플랫폼입니다. 회원가입 시 생년, 성별, 관심 분야를 입력하자 딱 맞는 동아리를 추천해주죠. 플랫폼 내에서 동아리의 리크루팅 과정인 서류 전형, 인터뷰 일정, 최종 결과 발표 등을 한 번에 해결할 수 있어요. 실제 동아리에 가입한 사람들의 솔직한 후기를 제공해주기 때문에 보다 정확한 정보를 얻을 수 있어요. Crewing은 신뢰할 수 있는 정보와 솔직한 후기를 제공해주기 때문에 효율적으로 내게 꼭 맞는 동아리를 선택할 수 있습니다.\\n- \\n- 사용한 기술 스택\\n**사용한 기술 스택**- -FE(프론트엔드): Spring Boot, Redis, MySQL\\n- -BE(백엔드): SwiftUI Framework, OAuth 2.0\\n##  🏅\\xa0입선 [학교생활 매니저] 학교생활 관리 서비스\\n\\n- 서비스 제작자: 아이칼F4(조민제, 이민기, 강건, 박근우)\\n**서비스 제작자: 아이칼F4(조민제, 이민기, 강건, 박근우)**> [!NOTE]\\n> 💡A는 올해 복학한 3학년 학생입니다. 강의실과 도서관을 오가며 바쁜 일정을 소화하느라 정신이 없지만, 수업마다 나오는 과제와 각종 활동, 시험 준비까지 겹치면서 혼란에 빠지기 일쑤였습니다. 복학생이다 보니 학교에서 전달되는 공지사항도 제대로 전달받지 못해 항상 중요한 정보를 놓칠까 봐 걱정이었죠.\\n\\n- \\n- <학교생활 매니저> 서비스는 학교 생활을 효율적으로 관리할 수 있도록 돕기 위해 개발된 관리 앱입니다. 일정과 과제 관리, 성적 예측, 학점 계산 등 캠퍼스 생활과 관련된 다양한 기능을 한 곳에서 관리할 수 있어요. ‘캘린더 기능’을 통해 학교 학사 일정과 개인 일정을 한눈에 확인할 수 있고, 날짜마다 해야 할 일을 To-Do List에 추가해 두면 중요한 과제나 시험 일정이 다가올 때마다 알림을 받아 놓치는 일이 없습니다. ‘공지사항 기능’을 통해 실시간으로 업데이트되는 학교 공지를 한 곳에서 확인할 수 있습니다. ‘시간표 기능’은 수업시간, 강의실, 교수님 정보 등을 한눈에 볼 수 있어 출결 관리도 확실하게 할 수 있어요.\\n- 앱 내의 학점 계산기를 사용하면 성적이 그래프로 시각화되어 변화를 쉽게 파악할 수 있고, 앞으로의 성적 목표를 세우는 데에도 큰 도움이 됩니다. 예상 학점 기능을 통해 과목별 예상 등수와 학점을 미리 계산해 보며 학습 계획도 조정할 수 있어요. <학교생활 매니저>앱을 사용하면 체계적으로 대학 생활을 관리하고, 남은 학업과 일정을 효율적으로 관리할 수 있습니다.\\n- \\n- 사용한 기술 스택\\n**사용한 기술 스택**- -FE(프론트엔드): Flutter\\n- -BE(백엔드): Firebase\\n##  🏅\\xa0입선 [BLOTIE] 교내 외국인X내국인 매칭 및 교류 플랫폼\\n\\n- 서비스 제작자: 블로티(이은주, 한명수, 황준영)\\n**서비스 제작자: 블로티(이은주, 한명수, 황준영)**> [!NOTE]\\n> 💡F는 T대학에 교환학생으로 온 외국인입니다. K팝 문화가 좋아 한국에 왔지만, 말도 잘 통하지 않고 문화 차이도 있어서 한국 캠퍼스 생활이 쉽지만은 않은데요. 한국어로 수업을 듣고 한국 친구도 사귀고 싶지만 한국 대학의 학사 일정과 과제 등 여러 시스템이 달라서 적응하기 어려웠습니다. 한국어가 서툴다보니 수업에서 제공되는 다양한 정보를 이해하기 어려웠고, 중요한 공지사항을 놓치기도 했습니다. 한국인 친구를 먼저 사귀는 것이 급선무라고 생각했죠.\\n\\n- \\n- <BLOTIE>는 외국인 학생이 가진 이런 문제를 해결하고, 보다 친밀하고 자유로운 글로벌 캠퍼스 문화를 조성하기 위해 만들어진 플랫폼입니다. ‘1:1 매칭 기능’으로 교내 외국인 학생과 한국인 학생을 쉽게 연결할 수 있어요. 서로의 문화와 언어를 자연스럽게 배우고 교류할 수 있습니다. 관심사, 언어 능력, 성격 등을 기반으로 이뤄지기 때문에 일회성 매칭에 대한 걱정도 줄어들어요. 매칭된 학생들은 플랫폼 내에서 ‘실시간 채팅과 피드 기능’으로 자유롭게 소통할 수 있고, 다양한 주제로 만남을 이어갈 수 있습니다.\\n- 외국인은 한국어 실력을 향상할 수 있고 한국인은 외국어를 실생활에서 연습할 기회를 얻을 수 있어요. BLOTIE를 통해 캠퍼스 내에 보다 다양한 문화가 공존하고, 학생들 간의 유대감이 강화되고, 서로 다른 배경을 가진 학생들이 함께 성장할 수 있는 환경이 조성됩니다. 글로벌 사회에서 중요한 소통 능력을 기를 수 있는 문화의 장으로 쓰일 수 있겠죠!\\n- \\n- 사용한 기술 스택\\n**사용한 기술 스택**- -FE(프론트엔드): Spring Boot, MySQL, Spring WebSocket\\n- -BE(백엔드): React Native, TanStack Query, Axios\\n- \\n- \\n> 코딩 공모전 수상작은 대학생들의 팀프로젝트를 통해 만들어진 웹/앱 서비스입니다. 캠퍼스에서의 문제를 해결하자는 참가자들의 아이디어에서 시작되었죠. 누구나 세상에 선보이고 싶은 나만의 아이디어와 기초 코딩 기술만 활용한다면, 얼마든지 서비스를 만들 수 있습니다. 스파르타코딩클럽의 내일배움캠프에서는 비전공, 초보자도 웹/앱 개발자로 거듭날 수 있는 다양한 트랙이 준비돼 있습니다. 나만의 아이디어를 세상에 선보이고 싶은 누구나에게 열려 있으니 주저말고 도전해 보세요.\\n\\n- \\n- 💡<All-in> 코딩 공모전에서 만든 다양한 서비스를 만나보고 싶다면?\\n- 다양한 서비스와 기발한 아이디어가 모인 곳에 초대합니다. 참가자들의 문제 해결방법이 궁금하시다면 지금 바로 ‘All-in 공모전’에서 만나보세요!\\n- 👉🏻\\xa0공모전 결과물 보러가기\\n[👉🏻\\xa0공모전 결과물 보러가기](https://spartacodingclub.kr/exhibition/all-in-challenge)- \\n- \\n- 누구나 큰일 낼 수 있어\\n**누구나 큰일 낼 수 있어**- 스파르타코딩클럽\\n**스파르타코딩클럽**- \\n- 글 | 신수지 팀스파르타 에디터\\n**공유하기**[아티클2024 내일배움카드로 개발자 되는 방법 : 프론트엔드 백엔드 국비지원 개발자 과정 알아보기조회171·8분 분량](/blog/2024-nbcamp-track)[아티클비전공자 웹개발 프론트엔드 : 비전공자가 개발자에 도전할 때 꼭 알아야 하는 것조회72·8분 분량](/blog/2024-frontend-inexperienced)[🔍국비지원 부트캠프로 개발 공부 시작하기](https://nbcamp.spartacodingclub.kr/?utm_source=sparta_home&utm_medium=owned&utm_campaign=scc&utm_content=main&utm_term=%EC%BD%94%EB%94%A9%EA%B3%B5%EB%AA%A8%EC%A0%84_240903\\t\\t\\t\\t\\t\\t\\t\\t\\t\\t\\t\\t)[개인정보처리방침](https://teamsparta.notion.site/7b1dc644460946f08bab08b794de685f)[서비스 이용약관](https://teamsparta.notion.site/247d57da1322424d8e8c551df21a048e)[환불 규정](https://teamsparta.notion.site/6abff2edf5b04abebeed5c97e194b6f3)[](https://www.instagram.com/spartacodingclub)[](https://m.blog.naver.com/PostList.nhn?blogId=spartacoding&categoryNo=6&logCode=0&categoryName=%EC%88%98%EA%B0%95%EC%83%9D%C2%A0%EC%86%94%EC%A7%81%ED%9B%84%EA%B8%B0)[](https://www.youtube.com/channel/UC2Fh3XoQYNYTba-cigq5cAA)[평생교육시설 신고번호: 제 661호](https://drive.google.com/file/d/1xtT3BX_uowATTC7X788a0EYYTkVx551r/view?usp=sharing)- Copyright ©2022 TEAMSPARTA. All rights reserved.\\n\""
      ]
     },
     "execution_count": 107,
     "metadata": {},
     "output_type": "execute_result"
    }
   ],
   "source": [
    "from bs4 import BeautifulSoup, SoupStrainer\n",
    "import requests\n",
    "from langchain_community.document_loaders import WebBaseLoader\n",
    "from langchain_text_splitters import RecursiveCharacterTextSplitter\n",
    "from langchain.embeddings import CacheBackedEmbeddings, OpenAIEmbeddings\n",
    "from langchain_community.vectorstores import FAISS\n",
    "import requests\n",
    "from bs4 import BeautifulSoup\n",
    "from langchain.schema import Document\n",
    "\n",
    "# 웹 페이지 로드\n",
    "url = \"https://spartacodingclub.kr/blog/all-in-challenge_winner\"\n",
    "response = requests.get(url)\n",
    "response.encoding = \"utf-8\"\n",
    "\n",
    "# HTML 파싱\n",
    "soup = BeautifulSoup(response.text, \"html.parser\")\n",
    "\n",
    "\n",
    "# HTML -> Markdown 변환 함수\n",
    "def html_to_markdown(soup):\n",
    "    markdown = \"\"\n",
    "    h2s = []\n",
    "\n",
    "    for element in soup.find_all(True):  # 태그가 있는 요소만 순회\n",
    "        # H1 태그 -> # 변환\n",
    "        if element.name == \"h1\":\n",
    "            markdown += f\"# {element.get_text(strip=True)}\\n\\n\"\n",
    "\n",
    "        # H2 태그 -> ## 변환\n",
    "        elif element.name == \"h2\":\n",
    "            h2s.append(element.get_text(strip=True))\n",
    "            if len(h2s) == 3:\n",
    "                markdown += f\"## {\" \".join(h2s)}\\n\\n\"\n",
    "                h2s = []\n",
    "\n",
    "        # p 태그 -> 리스트 항목 변환\n",
    "        elif element.name == \"p\":\n",
    "            markdown += f\"- {element.get_text(strip=True)}\\n\"\n",
    "\n",
    "        # strong 태그 -> bold 변환\n",
    "        elif element.name == \"strong\":\n",
    "            markdown += f\"**{element.get_text(strip=True)}**\"\n",
    "\n",
    "        # div.my-callout -> callout 변환\n",
    "        elif element.name == \"div\" and \"my-callout\" in element.get(\"class\", []):\n",
    "            markdown += f\"> [!NOTE]\\n> {element.get_text(strip=True)}\\n\\n\"\n",
    "\n",
    "        # blockquote -> 인용 변환\n",
    "        elif element.name == \"blockquote\":\n",
    "            markdown += f\"> {element.get_text(strip=True)}\\n\\n\"\n",
    "\n",
    "        # a 태그 -> URL 링크 변환\n",
    "        elif element.name == \"a\" and element.get(\"href\"):\n",
    "            link_text = element.get_text(strip=True)\n",
    "            url = element[\"href\"]\n",
    "            markdown += f\"[{link_text}]({url})\"\n",
    "\n",
    "        # 지정되지 않은 태그는 내용 포함하여 삭제\n",
    "        else:\n",
    "            continue  # 다른 태그는 무시하고 넘어감\n",
    "\n",
    "    return markdown\n",
    "\n",
    "\n",
    "# 변환 실행\n",
    "markdown_content = html_to_markdown(soup)\n",
    "markdown_content"
   ]
  },
  {
   "cell_type": "code",
   "execution_count": 110,
   "metadata": {},
   "outputs": [
    {
     "data": {
      "text/plain": [
       "[Document(metadata={}, page_content=\"# 'AII-in 코딩 공모전’ 수상작을 소개합니다\\n\\n- 코딩은 더 이상 개발자만의 영역이 아닙니다. 누구나 아이디어만 있다면 창의적인 서비스를 만들어 세상을 바꿀 수 있습니다. 스파르타코딩클럽에서는 이러한 가능성을 믿고, 누구나 코딩을 통해 자신의 아이디어를 실현하고 실제 문제를 해결하는 경험을 쌓을 수 있도록 다양한 프로그램을 마련하고 있습니다.\\n- <All-in> 코딩 공모전은 대학생들이 캠퍼스에서 겪은 불편함과 문제를 자신만의 아이디어로 해결해보는 대회였는데요. 이번 공모전에서 다양한 혁신적인 아이디어와 열정으로 가득한 수많은 프로젝트가 탄생했습니다. 그중 뛰어난 성과를 낸 수상작 6개를 소개합니다.\\n##  🏆\\xa0대상 [Lexi Note] 언어공부 필기 웹 서비스\\n\\n- 서비스 제작자: 다나와(김다애, 박나경)\\n**서비스 제작자: 다나와(김다애, 박나경)**> [!NOTE]\\n> 💡W는 어문학을 전공하는 대학생입니다. 매일 새로운 단어와 문장 구조를 공부하고 있지만, 효율적으로 학습하는 것이 쉽지 않았습니다. 단어의 의미를 찾기 위해 사전을 뒤적이고, 긴 문장을 이해하려고 번역기를 사용하다 보면, 필기 노트는 어느새 뒷전으로 밀려났거든요. 사전, 번역기, 원서, 필기노트를 왔다 갔다 하다 보면 시간이 다 지나가 버리곤 했죠.\"),\n",
       " Document(metadata={}, page_content='- \\n- W와 같이 어문 전공생은 문법, 어휘, 문장 구조 등 다양한 자료를 학습해야 합니다. 여러 자료를 번갈아 학습하다보니 ‘사전-번역기-원서-필기노트’ 왕복으로 학습 효율이 나지 않아 고민인 경우도 많으실 거예요. <Lexi Note>는 단어를 드래그하면 네이버 사전으로 바로 연동 돼 단어의 의미를 찾으며 동시에 필기 할 수 있어요. 이외에도 번역 버튼을 누르면 파파고 번역기가 연동돼 긴 문장도 쉽게 이해할 수 있어요. 언어 학습에 필요한 할일 목록과 스케줄 템플릿을 제공하여 효율적으로 공부할 수 있습니다. 필기, 사전, 번역을 한번에 쉽고 편하게 이용할 수 있죠. 더 이상 시간 낭비 없이 효율적으로 어문학을 공부하며 학습 속도도 눈에 띄게 빨라질 수 있어요. 언어 공부의 복잡함을 단순하게 만들어주는 Lexi Note가 요긴한 학습 도우미가 되었기 때문입니다.\\n- \\n- 사용한 기술 스택\\n**사용한 기술 스택**- -FE(프론트엔드): React, Tesseract.js, React-Quill, HTML, CSS, JavaScript\\n- -BE(백엔드): Java, Spring Boot, MariaDB\\n##  🎖️\\xa0우수상 [우리집 히어로즈] 벌레 퇴치 영웅 매칭 서비스\\n\\n- 서비스 제작자: 인트(배정연, 한지수)\\n**서비스 제작자: 인트(배정연, 한지수)**> [!NOTE]\\n> 💡C는 이번 학기 처음으로 자취를 시작했습니다. 원래부터 작은 벌레에 민감했던 C. 자취방에서 자주 나타나는 벌레들 때문에 밤잠을 설치길 반복했습니다. 밤마다 벌레를 잡으려고 애쓰던 C는 커뮤니티를 통해 다른 학생들도 같은 문제를 겪고 있다는 것을 알게 되었습니다. 하지만 커뮤니티에서 벌레 퇴치 히어로를 찾기 위해서는 내 개인 정보를 노출해야 한다는 점이 찝찝했죠.'),\n",
       " Document(metadata={}, page_content='- \\n- 이 문제를 해결할 수 있는 방법이 바로 <우리집 히어로즈> 서비스입니다. 대학생 자취생들이 자취방에서 겪는 벌레 문제를 해결하기 위해 개발된 앱이죠. 벌레 퇴치가 필요한 사용자가 앱에 요청을 올리면 벌레 퇴치 히어로 학우와 매칭됩니다. 사용자 신원은 같은 학교 학생으로, 신원이 보장된 안전한 환경에서 이뤄지고 벌레를 퇴치해주는 히어로는 추가 수입을 얻을 수 있는 기회를 가집니다. 실시간 알림 기능을 통해 매칭이 이뤄지면 즉시 알림을 받을 수 있어 빠르게 문제를 해결할 수 있습니다. 벌레를 퇴치한 후 사용자는 서로를 평가할 수 있어요. 더 나은 서비스를 제공하거나 받을 수 있습니다.\\n- \\n- 사용한 기술 스택\\n**사용한 기술 스택**- -FE(프론트엔드): React Native, Expo, Axios\\n- -BE(백엔드): Spring Boot, Spring Security, MySQL, SSE, FCM, JWT, Postman\\n##  🎖️\\xa0우수상 [에코 클래스룸] 수업 실시간 소통 서비스\\n\\n- 서비스 제작자: This is 스파게티!!!(박지성, 김서원, 박범수)\\n**서비스 제작자: This is 스파게티!!!(박지성, 김서원, 박범수)**> [!NOTE]\\n> 💡K교수는 항상 수업이 끝난 후 난이도가 적절했는지 궁금했습니다. “질문 있나요?”라는 말이 수업의 마무리였지만, 대부분의 학생은 답이 없었죠. 그저 고개를 끄덕이는 몇몇 학생들만 보일 뿐, 정말 이해한 것인지, 질문할 용기가 없는 것인지 알 수 없었습니다. 이때문에 학생들이 수업 내용을 제대로 이해하고 있는지 확인하기 어려웠습니다. 어느 날 강의가 끝나고 몇몇 학생들이 몰려와 어렵다고, 다시 설명해 달라고 요청했습니다. 그제야 K교수는 알게 되었어요. 학생들이 이해하지 못하고 있었지만, 질문을 하지 않았던 것이었습니다.'),\n",
       " Document(metadata={}, page_content='- \\n- 다른 학생들의 시선이 부담스러워서, 나만 모르는 거라고 생각해서 질문하지 않는 학생들을 위해 만들어진 서비스가 바로 <에코 클래스룸>입니다. 교수와 학생 간의 소통을 혁신적으로 바꾸기 위해 만들어졌어요. 학생들이 굳이 손을 들고 질문하지 않아도, 에코 클래스룸을 통해 자신의 의견을 표현할 수 있습니다. 익명으로 수업 중 자신의 의견이나 질문을 쉽게 제출할 수 있어 교수님은 실시간으로 학생들의 이해도를 파악할 수 있습니다. 수업 중 또는 후에 교수자가 수업에 대한 피드백을 받을 수 있는 평가 기능과 학생의 이해도를 테스트 할 수 있는 퀴즈 생성 기능이 있어 필요한 경우 수업 속도를 조절하고 추가 설명을 할 수 있어요.\\n- \\n- 사용한 기술 스택\\n**사용한 기술 스택**- -FE(프론트엔드): Flutter, Socket.IO, Expo CLI, Axios, TanStack Query\\n- -BE(백엔드): Spring Boot, Spring Security, JWT, MySQL, Spring WebSocket, AWS\\n##  🏅\\xa0입선 [Crewing] 연합동아리 정보 플랫폼\\n\\n- 서비스 제작자: 동학대학운동(김민아, 임경진, 신은혜, 고수)\\n**서비스 제작자: 동학대학운동(김민아, 임경진, 신은혜, 고수)**> [!NOTE]\\n> 💡신입생인 S는 대학 생활을 알차게 보내고 싶어서 연합 동아리에 가입하려고 했지만 어떤 동아리가 자신에게 맞을지 고민이 많았습니다. 인터넷에 검색해보니 연합 동아리 후기는 대부분 여기저기 흩어져 있고, 신뢰할 만한 정보를 찾기 어려웠습니다.'),\n",
       " Document(metadata={}, page_content='- \\n- <Crewing>은 대학생들이 다양한 연합 동아리에 쉽게 가입하고, 적절한 동아리를 찾을 수 있도록 지원해주는 아카이빙 플랫폼입니다. 회원가입 시 생년, 성별, 관심 분야를 입력하자 딱 맞는 동아리를 추천해주죠. 플랫폼 내에서 동아리의 리크루팅 과정인 서류 전형, 인터뷰 일정, 최종 결과 발표 등을 한 번에 해결할 수 있어요. 실제 동아리에 가입한 사람들의 솔직한 후기를 제공해주기 때문에 보다 정확한 정보를 얻을 수 있어요. Crewing은 신뢰할 수 있는 정보와 솔직한 후기를 제공해주기 때문에 효율적으로 내게 꼭 맞는 동아리를 선택할 수 있습니다.\\n- \\n- 사용한 기술 스택\\n**사용한 기술 스택**- -FE(프론트엔드): Spring Boot, Redis, MySQL\\n- -BE(백엔드): SwiftUI Framework, OAuth 2.0\\n##  🏅\\xa0입선 [학교생활 매니저] 학교생활 관리 서비스\\n\\n- 서비스 제작자: 아이칼F4(조민제, 이민기, 강건, 박근우)\\n**서비스 제작자: 아이칼F4(조민제, 이민기, 강건, 박근우)**> [!NOTE]\\n> 💡A는 올해 복학한 3학년 학생입니다. 강의실과 도서관을 오가며 바쁜 일정을 소화하느라 정신이 없지만, 수업마다 나오는 과제와 각종 활동, 시험 준비까지 겹치면서 혼란에 빠지기 일쑤였습니다. 복학생이다 보니 학교에서 전달되는 공지사항도 제대로 전달받지 못해 항상 중요한 정보를 놓칠까 봐 걱정이었죠.'),\n",
       " Document(metadata={}, page_content='- \\n- <학교생활 매니저> 서비스는 학교 생활을 효율적으로 관리할 수 있도록 돕기 위해 개발된 관리 앱입니다. 일정과 과제 관리, 성적 예측, 학점 계산 등 캠퍼스 생활과 관련된 다양한 기능을 한 곳에서 관리할 수 있어요. ‘캘린더 기능’을 통해 학교 학사 일정과 개인 일정을 한눈에 확인할 수 있고, 날짜마다 해야 할 일을 To-Do List에 추가해 두면 중요한 과제나 시험 일정이 다가올 때마다 알림을 받아 놓치는 일이 없습니다. ‘공지사항 기능’을 통해 실시간으로 업데이트되는 학교 공지를 한 곳에서 확인할 수 있습니다. ‘시간표 기능’은 수업시간, 강의실, 교수님 정보 등을 한눈에 볼 수 있어 출결 관리도 확실하게 할 수 있어요.\\n- 앱 내의 학점 계산기를 사용하면 성적이 그래프로 시각화되어 변화를 쉽게 파악할 수 있고, 앞으로의 성적 목표를 세우는 데에도 큰 도움이 됩니다. 예상 학점 기능을 통해 과목별 예상 등수와 학점을 미리 계산해 보며 학습 계획도 조정할 수 있어요. <학교생활 매니저>앱을 사용하면 체계적으로 대학 생활을 관리하고, 남은 학업과 일정을 효율적으로 관리할 수 있습니다.\\n- \\n- 사용한 기술 스택\\n**사용한 기술 스택**- -FE(프론트엔드): Flutter\\n- -BE(백엔드): Firebase\\n##  🏅\\xa0입선 [BLOTIE] 교내 외국인X내국인 매칭 및 교류 플랫폼'),\n",
       " Document(metadata={}, page_content='- 서비스 제작자: 블로티(이은주, 한명수, 황준영)\\n**서비스 제작자: 블로티(이은주, 한명수, 황준영)**> [!NOTE]\\n> 💡F는 T대학에 교환학생으로 온 외국인입니다. K팝 문화가 좋아 한국에 왔지만, 말도 잘 통하지 않고 문화 차이도 있어서 한국 캠퍼스 생활이 쉽지만은 않은데요. 한국어로 수업을 듣고 한국 친구도 사귀고 싶지만 한국 대학의 학사 일정과 과제 등 여러 시스템이 달라서 적응하기 어려웠습니다. 한국어가 서툴다보니 수업에서 제공되는 다양한 정보를 이해하기 어려웠고, 중요한 공지사항을 놓치기도 했습니다. 한국인 친구를 먼저 사귀는 것이 급선무라고 생각했죠.'),\n",
       " Document(metadata={}, page_content='- \\n- <BLOTIE>는 외국인 학생이 가진 이런 문제를 해결하고, 보다 친밀하고 자유로운 글로벌 캠퍼스 문화를 조성하기 위해 만들어진 플랫폼입니다. ‘1:1 매칭 기능’으로 교내 외국인 학생과 한국인 학생을 쉽게 연결할 수 있어요. 서로의 문화와 언어를 자연스럽게 배우고 교류할 수 있습니다. 관심사, 언어 능력, 성격 등을 기반으로 이뤄지기 때문에 일회성 매칭에 대한 걱정도 줄어들어요. 매칭된 학생들은 플랫폼 내에서 ‘실시간 채팅과 피드 기능’으로 자유롭게 소통할 수 있고, 다양한 주제로 만남을 이어갈 수 있습니다.\\n- 외국인은 한국어 실력을 향상할 수 있고 한국인은 외국어를 실생활에서 연습할 기회를 얻을 수 있어요. BLOTIE를 통해 캠퍼스 내에 보다 다양한 문화가 공존하고, 학생들 간의 유대감이 강화되고, 서로 다른 배경을 가진 학생들이 함께 성장할 수 있는 환경이 조성됩니다. 글로벌 사회에서 중요한 소통 능력을 기를 수 있는 문화의 장으로 쓰일 수 있겠죠!\\n- \\n- 사용한 기술 스택\\n**사용한 기술 스택**- -FE(프론트엔드): Spring Boot, MySQL, Spring WebSocket\\n- -BE(백엔드): React Native, TanStack Query, Axios\\n- \\n- \\n> 코딩 공모전 수상작은 대학생들의 팀프로젝트를 통해 만들어진 웹/앱 서비스입니다. 캠퍼스에서의 문제를 해결하자는 참가자들의 아이디어에서 시작되었죠. 누구나 세상에 선보이고 싶은 나만의 아이디어와 기초 코딩 기술만 활용한다면, 얼마든지 서비스를 만들 수 있습니다. 스파르타코딩클럽의 내일배움캠프에서는 비전공, 초보자도 웹/앱 개발자로 거듭날 수 있는 다양한 트랙이 준비돼 있습니다. 나만의 아이디어를 세상에 선보이고 싶은 누구나에게 열려 있으니 주저말고 도전해 보세요.'),\n",
       " Document(metadata={}, page_content='- \\n- 💡<All-in> 코딩 공모전에서 만든 다양한 서비스를 만나보고 싶다면?\\n- 다양한 서비스와 기발한 아이디어가 모인 곳에 초대합니다. 참가자들의 문제 해결방법이 궁금하시다면 지금 바로 ‘All-in 공모전’에서 만나보세요!\\n- 👉🏻\\xa0공모전 결과물 보러가기\\n[👉🏻\\xa0공모전 결과물 보러가기](https://spartacodingclub.kr/exhibition/all-in-challenge)- \\n- \\n- 누구나 큰일 낼 수 있어\\n**누구나 큰일 낼 수 있어**- 스파르타코딩클럽\\n**스파르타코딩클럽**- \\n- 글 | 신수지 팀스파르타 에디터'),\n",
       " Document(metadata={}, page_content='**공유하기**[아티클2024 내일배움카드로 개발자 되는 방법 : 프론트엔드 백엔드 국비지원 개발자 과정 알아보기조회171·8분 분량](/blog/2024-nbcamp-track)[아티클비전공자 웹개발 프론트엔드 : 비전공자가 개발자에 도전할 때 꼭 알아야 하는 것조회72·8분 분량](/blog/2024-frontend-inexperienced)[🔍국비지원 부트캠프로 개발 공부 시작하기](https://nbcamp.spartacodingclub.kr/?utm_source=sparta_home&utm_medium=owned&utm_campaign=scc&utm_content=main&utm_term=%EC%BD%94%EB%94%A9%EA%B3%B5%EB%AA%A8%EC%A0%84_240903\\t\\t\\t\\t\\t\\t\\t\\t\\t\\t\\t\\t)[개인정보처리방침](https://teamsparta.notion.site/7b1dc644460946f08bab08b794de685f)[서비스 이용약관](https://teamsparta.notion.site/247d57da1322424d8e8c551df21a048e)[환불 규정](https://teamsparta.notion.site/6abff2edf5b04abebeed5c97e194b6f3)[](https://www.instagram.com/spartacodingclub)[](https://m.blog.naver.com/PostList.nhn?blogId=spartacoding&categoryNo=6&logCode=0&categoryName=%EC%88%98%EA%B0%95%EC%83%9D%C2%A0%EC%86%94%EC%A7%81%ED%9B%84%EA%B8%B0)[](https://www.youtube.com/channel/UC2Fh3XoQYNYTba-cigq5cAA)[평생교육시설 신고번호: 제'),\n",
       " Document(metadata={}, page_content='신고번호: 제 661호](https://drive.google.com/file/d/1xtT3BX_uowATTC7X788a0EYYTkVx551r/view?usp=sharing)- Copyright ©2022 TEAMSPARTA. All rights reserved.')]"
      ]
     },
     "execution_count": 110,
     "metadata": {},
     "output_type": "execute_result"
    }
   ],
   "source": [
    "from langchain.text_splitter import RecursiveCharacterTextSplitter\n",
    "\n",
    "splitter = RecursiveCharacterTextSplitter(\n",
    "    chunk_size=1000, chunk_overlap=100  # 청크 크기  # 청크 간의 중복 크기\n",
    ")\n",
    "split = splitter.split_text(markdown_content)\n",
    "split\n",
    "\n",
    "# Document 객체로 변환\n",
    "documents = [Document(page_content=chunk) for chunk in split]\n",
    "\n",
    "documents"
   ]
  },
  {
   "cell_type": "code",
   "execution_count": 80,
   "metadata": {},
   "outputs": [
    {
     "data": {
      "text/plain": [
       "[Document(metadata={'id': '37008d87-7bf0-4292-82ae-3b93c4a712f2', 'level': 'h2', 'title': '🏅 입선', 'editor': '신수지'}, page_content='## 🏅 입선\\n\\n'),\n",
       " Document(metadata={'id': 'da8de79d-fbe7-4730-baed-4eafed89a071', 'level': 'h2', 'title': '[BLOTIE] 교내 외국인X내국인 매칭 및 교류 플랫폼', 'editor': '신수지'}, page_content='## [BLOTIE] 교내 외국인X내국인 매칭 및 교류 플랫폼\\n\\n- 서비스 제작자: 블로티(이은주, 한명수, 황준영)\\n')]"
      ]
     },
     "execution_count": 80,
     "metadata": {},
     "output_type": "execute_result"
    }
   ],
   "source": [
    "import re\n",
    "from uuid import uuid4\n",
    "from langchain.schema import Document\n",
    "\n",
    "\n",
    "# 고유 ID 생성 함수\n",
    "def generate_id():\n",
    "    return str(uuid4())\n",
    "\n",
    "\n",
    "# 마크다운을 Document 객체로 변환하는 함수 (헤더 기준 분리)\n",
    "def parse_markdown_to_documents(markdown):\n",
    "    documents = []\n",
    "    current_section = None\n",
    "\n",
    "    for line in markdown.splitlines():\n",
    "        # H1 태그 처리\n",
    "        if line.startswith(\"# \"):\n",
    "            # 이전 섹션을 Document로 저장\n",
    "            if current_section:\n",
    "                documents.append(\n",
    "                    Document(\n",
    "                        page_content=current_section[\"content\"],\n",
    "                        metadata=current_section[\"metadata\"],\n",
    "                    )\n",
    "                )\n",
    "            # 새로운 섹션 초기화\n",
    "            current_section = {\n",
    "                \"content\": line + \"\\n\",\n",
    "                \"metadata\": {\n",
    "                    \"id\": generate_id(),\n",
    "                    \"level\": \"h1\",\n",
    "                    \"title\": line[2:].strip(),\n",
    "                    \"editor\": \"신수지\",\n",
    "                },\n",
    "            }\n",
    "\n",
    "        # H2 태그 처리\n",
    "        elif line.startswith(\"## \"):\n",
    "            # 현재 섹션이 비어있지 않으면 저장\n",
    "            if current_section and current_section[\"content\"].strip():\n",
    "                documents.append(\n",
    "                    Document(\n",
    "                        page_content=current_section[\"content\"],\n",
    "                        metadata=current_section[\"metadata\"],\n",
    "                    )\n",
    "                )\n",
    "            # 새로운 섹션 초기화\n",
    "            current_section = {\n",
    "                \"content\": line + \"\\n\",\n",
    "                \"metadata\": {\n",
    "                    \"id\": generate_id(),\n",
    "                    \"level\": \"h2\",\n",
    "                    \"title\": line[3:].strip(),\n",
    "                    \"editor\": \"신수지\",\n",
    "                },\n",
    "            }\n",
    "\n",
    "        # 본문 내용 추가\n",
    "        else:\n",
    "            if current_section:\n",
    "                current_section[\"content\"] += line + \"\\n\"\n",
    "\n",
    "    # 마지막 섹션 추가\n",
    "    if current_section:\n",
    "        documents.append(\n",
    "            Document(\n",
    "                page_content=current_section[\"content\"],\n",
    "                metadata=current_section[\"metadata\"],\n",
    "            )\n",
    "        )\n",
    "\n",
    "    return documents\n",
    "\n",
    "\n",
    "# 마크다운 섹션 파싱\n",
    "sections = parse_markdown_to_documents(markdown_content)\n",
    "sections"
   ]
  },
  {
   "cell_type": "code",
   "execution_count": 79,
   "metadata": {},
   "outputs": [
    {
     "data": {
      "text/plain": [
       "[Document(metadata={'id': 'a76de647-f42e-432e-8a7a-c87d5b08f425', 'level': 'h2', 'title': '🏅 입선', 'editor': '신수지'}, page_content='## 🏅 입선\\n\\n'),\n",
       " Document(metadata={'id': 'cc8fa527-fc65-4d9f-b05b-59b0e11d4d87', 'level': 'h2', 'title': '[BLOTIE] 교내 외국인X내국인 매칭 및 교류 플랫폼', 'editor': '신수지'}, page_content='## [BLOTIE] 교내 외국인X내국인 매칭 및 교류 플랫폼\\n\\n- 서비스 제작자: 블로티(이은주, 한명수, 황준영)\\n')]"
      ]
     },
     "execution_count": 79,
     "metadata": {},
     "output_type": "execute_result"
    }
   ],
   "source": [
    "sections"
   ]
  },
  {
   "cell_type": "code",
   "execution_count": 111,
   "metadata": {},
   "outputs": [],
   "source": [
    "vectorstore = FAISS.from_documents(documents=documents, embedding=OpenAIEmbeddings())"
   ]
  },
  {
   "cell_type": "code",
   "execution_count": 112,
   "metadata": {},
   "outputs": [],
   "source": [
    "vectorstore.save_local(\"vector_stores/faiss_all-in-challenge_winner\")"
   ]
  },
  {
   "cell_type": "code",
   "execution_count": 60,
   "metadata": {},
   "outputs": [],
   "source": [
    "vectorstore = FAISS.load_local(\n",
    "    \"vector_stores/faiss_all-in-challenge_winner\",\n",
    "    embeddings=OpenAIEmbeddings(),\n",
    "    allow_dangerous_deserialization=True,\n",
    ")\n",
    "retriever = vectorstore.as_retriever()"
   ]
  },
  {
   "cell_type": "code",
   "execution_count": 56,
   "metadata": {},
   "outputs": [
    {
     "data": {
      "text/plain": [
       "'## 🏅\\xa0입선\\n\\n\\n\\n## 🏅\\xa0입선\\n\\n\\n\\n## 🏅\\xa0입선\\n\\n\\n\\n## 🏆\\xa0대상\\n\\n'"
      ]
     },
     "execution_count": 56,
     "metadata": {},
     "output_type": "execute_result"
    }
   ],
   "source": [
    "res = retriever.invoke(\"입상한 작품을 소개해줘\")\n",
    "\n",
    "\n",
    "def format_docs(docs):\n",
    "    return \"\\n\\n\".join(doc.page_content for doc in docs)"
   ]
  }
 ],
 "metadata": {
  "kernelspec": {
   "display_name": "venv",
   "language": "python",
   "name": "python3"
  },
  "language_info": {
   "codemirror_mode": {
    "name": "ipython",
    "version": 3
   },
   "file_extension": ".py",
   "mimetype": "text/x-python",
   "name": "python",
   "nbconvert_exporter": "python",
   "pygments_lexer": "ipython3",
   "version": "3.12.6"
  }
 },
 "nbformat": 4,
 "nbformat_minor": 2
}
